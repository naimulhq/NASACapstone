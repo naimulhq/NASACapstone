{
  "nbformat": 4,
  "nbformat_minor": 0,
  "metadata": {
    "accelerator": "GPU",
    "colab": {
      "name": "JetsonTrainingNotebook.ipynb",
      "provenance": []
    },
    "kernelspec": {
      "display_name": "Python 3",
      "name": "python3"
    }
  },
  "cells": [
    {
      "cell_type": "markdown",
      "metadata": {
        "id": "DytNkejshlGL"
      },
      "source": [
        "## Jetson Training\r\n",
        "\r\n",
        "The following notebook will be used to help the user set up training using Google Colab. "
      ]
    },
    {
      "cell_type": "markdown",
      "metadata": {
        "id": "fQG0nVMjisGk"
      },
      "source": [
        "## Download Necessary Packages"
      ]
    },
    {
      "cell_type": "code",
      "metadata": {
        "colab": {
          "background_save": true,
          "base_uri": "https://localhost:8080/"
        },
        "id": "gZiEinfkhkN5",
        "outputId": "1092b742-7e79-4953-aefa-41c9035b24cb"
      },
      "source": [
        "!apt-get update\r\n",
        "!apt-get install git cmake libpython3-dev python3-numpy\r\n",
        "!git clone --recursive https://github.com/dusty-nv/jetson-inference\r\n",
        "!cd jetson-inference\r\n",
        "!mkdir build\r\n",
        "!cd build\r\n",
        "!cmake ../\r\n",
        "!make -j$(nproc)\r\n",
        "!sudo make install\r\n",
        "!sudo ldconfig"
      ],
      "execution_count": null,
      "outputs": [
        {
          "output_type": "stream",
          "text": [
            "Get:1 https://cloud.r-project.org/bin/linux/ubuntu bionic-cran40/ InRelease [3,626 B]\n",
            "Ign:2 https://developer.download.nvidia.com/compute/cuda/repos/ubuntu1804/x86_64  InRelease\n",
            "Ign:3 https://developer.download.nvidia.com/compute/machine-learning/repos/ubuntu1804/x86_64  InRelease\n",
            "Get:4 http://security.ubuntu.com/ubuntu bionic-security InRelease [88.7 kB]\n",
            "Hit:5 https://developer.download.nvidia.com/compute/cuda/repos/ubuntu1804/x86_64  Release\n",
            "Hit:6 https://developer.download.nvidia.com/compute/machine-learning/repos/ubuntu1804/x86_64  Release\n",
            "Get:7 http://ppa.launchpad.net/c2d4u.team/c2d4u4.0+/ubuntu bionic InRelease [15.9 kB]\n",
            "Hit:8 http://archive.ubuntu.com/ubuntu bionic InRelease\n",
            "Get:9 http://archive.ubuntu.com/ubuntu bionic-updates InRelease [88.7 kB]\n",
            "Hit:12 http://ppa.launchpad.net/cran/libgit2/ubuntu bionic InRelease\n",
            "Get:13 http://archive.ubuntu.com/ubuntu bionic-backports InRelease [74.6 kB]\n",
            "Hit:14 http://ppa.launchpad.net/deadsnakes/ppa/ubuntu bionic InRelease\n",
            "Get:15 http://security.ubuntu.com/ubuntu bionic-security/universe amd64 Packages [1,392 kB]\n",
            "Hit:16 http://ppa.launchpad.net/graphics-drivers/ppa/ubuntu bionic InRelease\n",
            "Get:17 http://security.ubuntu.com/ubuntu bionic-security/main amd64 Packages [1,963 kB]\n",
            "Get:18 http://ppa.launchpad.net/c2d4u.team/c2d4u4.0+/ubuntu bionic/main Sources [1,738 kB]\n",
            "Get:19 http://archive.ubuntu.com/ubuntu bionic-updates/universe amd64 Packages [2,163 kB]\n",
            "Get:20 http://archive.ubuntu.com/ubuntu bionic-updates/main amd64 Packages [2,394 kB]\n",
            "Get:21 http://ppa.launchpad.net/c2d4u.team/c2d4u4.0+/ubuntu bionic/main amd64 Packages [889 kB]\n",
            "Fetched 10.8 MB in 3s (3,196 kB/s)\n",
            "Reading package lists... Done\n",
            "Reading package lists... Done\n",
            "Building dependency tree       \n",
            "Reading state information... Done\n",
            "cmake is already the newest version (3.10.2-1ubuntu2.18.04.1).\n",
            "git is already the newest version (1:2.17.1-1ubuntu0.7).\n",
            "libpython3-dev is already the newest version (3.6.7-1~18.04).\n",
            "Suggested packages:\n",
            "  python-numpy-doc python3-nose python3-numpy-dbg\n",
            "The following NEW packages will be installed:\n",
            "  python3-numpy\n",
            "0 upgraded, 1 newly installed, 0 to remove and 32 not upgraded.\n",
            "Need to get 1,943 kB of archives.\n",
            "After this operation, 10.9 MB of additional disk space will be used.\n",
            "Get:1 http://archive.ubuntu.com/ubuntu bionic/main amd64 python3-numpy amd64 1:1.13.3-2ubuntu1 [1,943 kB]\n",
            "Fetched 1,943 kB in 1s (1,523 kB/s)\n",
            "Selecting previously unselected package python3-numpy.\n",
            "(Reading database ... 149406 files and directories currently installed.)\n",
            "Preparing to unpack .../python3-numpy_1%3a1.13.3-2ubuntu1_amd64.deb ...\n",
            "Unpacking python3-numpy (1:1.13.3-2ubuntu1) ...\n",
            "Setting up python3-numpy (1:1.13.3-2ubuntu1) ...\n",
            "Processing triggers for man-db (2.8.3-2ubuntu0.1) ...\n",
            "Cloning into 'jetson-inference'...\n",
            "remote: Enumerating objects: 17, done.\u001b[K\n",
            "remote: Counting objects: 100% (17/17), done.\u001b[K\n",
            "remote: Compressing objects: 100% (13/13), done.\u001b[K\n",
            "remote: Total 16680 (delta 5), reused 10 (delta 4), pack-reused 16663\u001b[K\n",
            "Receiving objects: 100% (16680/16680), 109.36 MiB | 24.23 MiB/s, done.\n",
            "Resolving deltas: 100% (13698/13698), done.\n",
            "Submodule 'python/training/classification' (https://github.com/dusty-nv/pytorch-classification) registered for path 'python/training/classification'\n",
            "Submodule 'python/training/detection' (https://github.com/dusty-nv/pytorch-detection) registered for path 'python/training/detection'\n",
            "Submodule 'python/training/segmentation' (https://github.com/dusty-nv/pytorch-segmentation) registered for path 'python/training/segmentation'\n",
            "Submodule 'tools/camera-capture' (https://github.com/dusty-nv/camera-capture) registered for path 'tools/camera-capture'\n",
            "Submodule 'utils' (https://github.com/dusty-nv/jetson-utils) registered for path 'utils'\n",
            "Cloning into '/content/jetson-inference/python/training/classification'...\n",
            "remote: Enumerating objects: 13, done.        \n",
            "remote: Counting objects: 100% (13/13), done.        \n",
            "remote: Compressing objects: 100% (8/8), done.        \n",
            "remote: Total 76 (delta 4), reused 12 (delta 3), pack-reused 63        \n",
            "Cloning into '/content/jetson-inference/python/training/detection'...\n",
            "remote: Enumerating objects: 8, done.        \n",
            "remote: Counting objects: 100% (8/8), done.        \n",
            "remote: Compressing objects: 100% (6/6), done.        \n",
            "remote: Total 88 (delta 3), reused 7 (delta 2), pack-reused 80        \n",
            "Cloning into '/content/jetson-inference/python/training/segmentation'...\n",
            "remote: Enumerating objects: 48, done.        \n",
            "remote: Counting objects: 100% (48/48), done.        \n",
            "remote: Compressing objects: 100% (42/42), done.        \n",
            "remote: Total 174 (delta 6), reused 40 (delta 5), pack-reused 126        \n",
            "Receiving objects: 100% (174/174), 167.07 MiB | 25.96 MiB/s, done.\n",
            "Resolving deltas: 100% (70/70), done.\n",
            "Cloning into '/content/jetson-inference/tools/camera-capture'...\n",
            "remote: Enumerating objects: 3, done.        \n",
            "remote: Counting objects: 100% (3/3), done.        \n",
            "remote: Compressing objects: 100% (3/3), done.        \n",
            "remote: Total 107 (delta 0), reused 1 (delta 0), pack-reused 104        \n",
            "Receiving objects: 100% (107/107), 34.33 KiB | 558.00 KiB/s, done.\n",
            "Resolving deltas: 100% (70/70), done.\n",
            "Cloning into '/content/jetson-inference/utils'...\n",
            "remote: Enumerating objects: 9, done.        \n",
            "remote: Counting objects: 100% (9/9), done.        \n",
            "remote: Compressing objects: 100% (9/9), done.        \n",
            "remote: Total 2367 (delta 1), reused 2 (delta 0), pack-reused 2358        \n",
            "Receiving objects: 100% (2367/2367), 938.03 KiB | 3.28 MiB/s, done.\n",
            "Resolving deltas: 100% (1625/1625), done.\n",
            "Submodule path 'python/training/classification': checked out '15c7d51cd6a1271e5ee6959c3f91fb95b6b54ff0'\n",
            "Submodule path 'python/training/detection': checked out '35987404f370f791581925934536768691d553c9'\n",
            "Submodule 'ssd' (https://github.com/dusty-nv/pytorch-ssd) registered for path 'python/training/detection/ssd'\n",
            "Cloning into '/content/jetson-inference/python/training/detection/ssd'...\n",
            "remote: Enumerating objects: 8, done.        \n",
            "remote: Counting objects: 100% (8/8), done.        \n",
            "remote: Compressing objects: 100% (8/8), done.        \n",
            "remote: Total 908 (delta 0), reused 1 (delta 0), pack-reused 900        \n",
            "Receiving objects: 100% (908/908), 1.08 MiB | 2.90 MiB/s, done.\n",
            "Resolving deltas: 100% (597/597), done.\n",
            "Submodule path 'python/training/detection/ssd': checked out 'e7b5af50a157c50d3bab8f55089ce57c2c812f37'\n",
            "Submodule path 'python/training/segmentation': checked out '6ae33ba3426665b8bde8923c0434d207ea4331e0'\n",
            "Submodule path 'tools/camera-capture': checked out '1571f9048ff63ec5e5b523e4e41d1988905b9d84'\n",
            "Submodule path 'utils': checked out '1f3709f48258c2d75500c35605e8f6f4a3447afc'\n",
            "CMake Error: The source directory \"/\" does not appear to contain CMakeLists.txt.\n",
            "Specify --help for usage, or press the help button on the CMake GUI.\n",
            "make: *** No targets specified and no makefile found.  Stop.\n",
            "make: *** No rule to make target 'install'.  Stop.\n",
            "/sbin/ldconfig.real: /usr/local/lib/python3.7/dist-packages/ideep4py/lib/libmkldnn.so.0 is not a symbolic link\n",
            "\n"
          ],
          "name": "stdout"
        }
      ]
    },
    {
      "cell_type": "markdown",
      "metadata": {
        "id": "NiGiRPcOjT_1"
      },
      "source": [
        "## Upload the images and annotations by doing the following steps.\r\n",
        "1. Upload Zipped TrainingTools Directory\r\n",
        "2. Upload Zipped Annotations and JPEGImages Directory"
      ]
    },
    {
      "cell_type": "code",
      "metadata": {
        "colab": {
          "base_uri": "https://localhost:8080/"
        },
        "id": "RGmFtVVbqOl3",
        "outputId": "5b047d8a-b940-4f13-e357-c58a48b655e8"
      },
      "source": [
        "!unzip TrainingTools\r\n",
        "!unzip Annotations\r\n",
        "!unzip JPEGImages"
      ],
      "execution_count": null,
      "outputs": [
        {
          "output_type": "stream",
          "text": [
            "Archive:  TrainingTools.zip\n",
            "  inflating: TrainingTools/README.md  \n",
            "   creating: TrainingTools/ssd/\n",
            "  inflating: TrainingTools/ssd/.gitignore  \n",
            "  inflating: TrainingTools/ssd/onnx_export.py  \n",
            "  inflating: TrainingTools/ssd/readImage.py  \n",
            " extracting: TrainingTools/ssd/requirements.txt  \n",
            "  inflating: TrainingTools/ssd/train_ssd.py  \n",
            "  inflating: TrainingTools/ssd/ValidName.py  \n",
            "   creating: TrainingTools/ssd/vision/\n",
            " extracting: TrainingTools/ssd/vision/__init__.py  \n",
            "   creating: TrainingTools/ssd/vision/datasets/\n",
            " extracting: TrainingTools/ssd/vision/datasets/__init__.py  \n",
            "  inflating: TrainingTools/ssd/vision/datasets/collation.py  \n",
            "  inflating: TrainingTools/ssd/vision/datasets/generate_vocdata.py  \n",
            "  inflating: TrainingTools/ssd/vision/datasets/open_images.py  \n",
            "  inflating: TrainingTools/ssd/vision/datasets/voc_dataset.py  \n",
            "   creating: TrainingTools/ssd/vision/nn/\n",
            " extracting: TrainingTools/ssd/vision/nn/__init__.py  \n",
            "  inflating: TrainingTools/ssd/vision/nn/alexnet.py  \n",
            "  inflating: TrainingTools/ssd/vision/nn/mobilenet.py  \n",
            "  inflating: TrainingTools/ssd/vision/nn/mobilenet_v2.py  \n",
            "  inflating: TrainingTools/ssd/vision/nn/multibox_loss.py  \n",
            "  inflating: TrainingTools/ssd/vision/nn/scaled_l2_norm.py  \n",
            "  inflating: TrainingTools/ssd/vision/nn/squeezenet.py  \n",
            "  inflating: TrainingTools/ssd/vision/nn/vgg.py  \n",
            "   creating: TrainingTools/ssd/vision/prunning/\n",
            " extracting: TrainingTools/ssd/vision/prunning/__init__.py  \n",
            "  inflating: TrainingTools/ssd/vision/prunning/prunner.py  \n",
            "   creating: TrainingTools/ssd/vision/ssd/\n",
            " extracting: TrainingTools/ssd/vision/ssd/__init__.py  \n",
            "   creating: TrainingTools/ssd/vision/ssd/config/\n",
            " extracting: TrainingTools/ssd/vision/ssd/config/__init__.py  \n",
            "  inflating: TrainingTools/ssd/vision/ssd/config/mobilenetv1_ssd_config.py  \n",
            "  inflating: TrainingTools/ssd/vision/ssd/config/squeezenet_ssd_config.py  \n",
            "  inflating: TrainingTools/ssd/vision/ssd/config/vgg_ssd_config.py  \n",
            "  inflating: TrainingTools/ssd/vision/ssd/data_preprocessing.py  \n",
            "  inflating: TrainingTools/ssd/vision/ssd/fpn_mobilenetv1_ssd.py  \n",
            "  inflating: TrainingTools/ssd/vision/ssd/fpn_ssd.py  \n",
            "  inflating: TrainingTools/ssd/vision/ssd/mobilenet_v2_ssd_lite.py  \n",
            "  inflating: TrainingTools/ssd/vision/ssd/mobilenetv1_ssd.py  \n",
            "  inflating: TrainingTools/ssd/vision/ssd/mobilenetv1_ssd_lite.py  \n",
            "  inflating: TrainingTools/ssd/vision/ssd/predictor.py  \n",
            "  inflating: TrainingTools/ssd/vision/ssd/squeezenet_ssd_lite.py  \n",
            "  inflating: TrainingTools/ssd/vision/ssd/ssd.py  \n",
            "  inflating: TrainingTools/ssd/vision/ssd/vgg_ssd.py  \n",
            "   creating: TrainingTools/ssd/vision/test/\n",
            " extracting: TrainingTools/ssd/vision/test/__init__.py  \n",
            "  inflating: TrainingTools/ssd/vision/test/test_vgg_ssd.py  \n",
            "   creating: TrainingTools/ssd/vision/transforms/\n",
            " extracting: TrainingTools/ssd/vision/transforms/__init__.py  \n",
            "  inflating: TrainingTools/ssd/vision/transforms/transforms.py  \n",
            "   creating: TrainingTools/ssd/vision/utils/\n",
            " extracting: TrainingTools/ssd/vision/utils/__init__.py  \n",
            "  inflating: TrainingTools/ssd/vision/utils/box_utils.py  \n",
            "  inflating: TrainingTools/ssd/vision/utils/box_utils_numpy.py  \n",
            "  inflating: TrainingTools/ssd/vision/utils/measurements.py  \n",
            "  inflating: TrainingTools/ssd/vision/utils/misc.py  \n",
            "  inflating: TrainingTools/ssd/vision/utils/model_book.py  \n",
            "Archive:  Annotations.zip\n",
            "  inflating: 20210225_112828.xml     \n",
            "  inflating: 20210225_112829.xml     \n",
            "  inflating: 20210225_112830.xml     \n",
            "  inflating: 20210225_112833.xml     \n",
            "  inflating: 20210225_112835.xml     \n",
            "  inflating: 20210225_112839.xml     \n",
            "  inflating: 20210225_112840.xml     \n",
            "  inflating: 20210225_112841.xml     \n",
            "  inflating: 20210225_112842.xml     \n",
            "  inflating: 20210225_112844.xml     \n",
            "Archive:  JPEGImages.zip\n",
            "  inflating: 20210225_112828.jpg     \n",
            "  inflating: 20210225_112829.jpg     \n",
            "  inflating: 20210225_112830.jpg     \n",
            "  inflating: 20210225_112833.jpg     \n",
            "  inflating: 20210225_112835.jpg     \n",
            "  inflating: 20210225_112839.jpg     \n",
            "  inflating: 20210225_112840.jpg     \n",
            "  inflating: 20210225_112841.jpg     \n",
            "  inflating: 20210225_112842.jpg     \n",
            "  inflating: 20210225_112844.jpg     \n"
          ],
          "name": "stdout"
        }
      ]
    },
    {
      "cell_type": "markdown",
      "metadata": {
        "id": "viGFC1ww4XA1"
      },
      "source": [
        "## Move Annotations and JPEGImages to TrainingTools/ssd/"
      ]
    },
    {
      "cell_type": "code",
      "metadata": {
        "colab": {
          "base_uri": "https://localhost:8080/"
        },
        "id": "MfIWsCLt4lYU",
        "outputId": "21991790-f201-4d5e-dfbe-8d433478a5d5"
      },
      "source": [
        "!mv Annotations/ TrainingTools/ssd/\r\n",
        "!mv JPEGImages/ TrainingTools/ssd/"
      ],
      "execution_count": null,
      "outputs": [
        {
          "output_type": "stream",
          "text": [
            "mv: cannot stat 'Annotations/': No such file or directory\n",
            "mv: cannot stat 'JPEGImages/': No such file or directory\n"
          ],
          "name": "stdout"
        }
      ]
    },
    {
      "cell_type": "code",
      "metadata": {
        "colab": {
          "base_uri": "https://localhost:8080/"
        },
        "id": "mQn901bbjzXb",
        "outputId": "ad5f9046-c4c4-4c68-d696-78cb40a923d7"
      },
      "source": [
        "\r\n",
        "%cd TrainingTools/ssd\r\n",
        "!mkdir ImageSets\r\n",
        "!mkdir ImageSets/Main\r\n",
        "!python3 readImage.py\r\n",
        "!mv train.txt ImageSets/Main/\r\n",
        "%cd ImageSets/Main/\r\n",
        "!cp train.txt trainval.txt\r\n",
        "%cd ../..\r\n",
        "!pwd"
      ],
      "execution_count": null,
      "outputs": [
        {
          "output_type": "stream",
          "text": [
            "[Errno 2] No such file or directory: 'TrainingTools/ssd'\n",
            "/content/TrainingTools/ssd/ImageSets/Main\n",
            "python3: can't open file 'readImage.py': [Errno 2] No such file or directory\n",
            "/content/TrainingTools/ssd/ImageSets/Main/ImageSets/Main\n",
            "/content/TrainingTools/ssd/ImageSets/Main\n",
            "/content/TrainingTools/ssd/ImageSets/Main\n"
          ],
          "name": "stdout"
        }
      ]
    },
    {
      "cell_type": "code",
      "metadata": {
        "colab": {
          "base_uri": "https://localhost:8080/"
        },
        "id": "gMEi6nIC0rek",
        "outputId": "991ca848-4469-466a-cd54-ab0396a6bddf"
      },
      "source": [
        "%cd ../..\r\n",
        "!pwd"
      ],
      "execution_count": null,
      "outputs": [
        {
          "output_type": "stream",
          "text": [
            "/content/TrainingTools/ssd\n",
            "/content/TrainingTools/ssd\n"
          ],
          "name": "stdout"
        }
      ]
    },
    {
      "cell_type": "code",
      "metadata": {
        "colab": {
          "base_uri": "https://localhost:8080/"
        },
        "id": "cwhglUAo05U5",
        "outputId": "ce512625-7925-4e3e-e32c-9b36b2a31bc9"
      },
      "source": [
        "%cd /content\r\n",
        "!mv labels.txt TrainingTools/ssd/\r\n",
        "%cd TrainingTools/ssd"
      ],
      "execution_count": null,
      "outputs": [
        {
          "output_type": "stream",
          "text": [
            "/content\n",
            "/content/TrainingTools/ssd\n"
          ],
          "name": "stdout"
        }
      ]
    },
    {
      "cell_type": "code",
      "metadata": {
        "colab": {
          "base_uri": "https://localhost:8080/"
        },
        "id": "4_IXGK_VtkZG",
        "outputId": "dfac1405-7fdc-4486-c70d-895ef8ef7ca5"
      },
      "source": [
        "!pwd\r\n",
        "!python3 vision/datasets/generate_vocdata.py ./labels.txt"
      ],
      "execution_count": null,
      "outputs": [
        {
          "output_type": "stream",
          "text": [
            "/content/TrainingTools/ssd\n",
            "Labels: ['Stage1.2'] imgcnt: 10\n",
            "Training set: 6 validation set: 2 test set: 2\n",
            "folder already exists: ./ImageSets/Main/\n"
          ],
          "name": "stdout"
        }
      ]
    },
    {
      "cell_type": "code",
      "metadata": {
        "colab": {
          "base_uri": "https://localhost:8080/"
        },
        "id": "6vRnB7y7vA39",
        "outputId": "a3cf71d9-0b28-402e-8c86-3ddef1d22aed"
      },
      "source": [
        "!mkdir models\r\n",
        "!mkdir models/Capstone\r\n",
        "!wget https://nvidia.box.com/shared/static/djf5w54rjvpqocsiztzaandq1m3avr7c.pth -O models/mobilenet-v1-ssd-mp-0_675.pth\r\n",
        "!pip3 install -v -r requirements.txt"
      ],
      "execution_count": null,
      "outputs": [
        {
          "output_type": "stream",
          "text": [
            "mkdir: cannot create directory ‘models’: File exists\n",
            "--2021-02-26 19:35:34--  https://nvidia.box.com/shared/static/djf5w54rjvpqocsiztzaandq1m3avr7c.pth\n",
            "Resolving nvidia.box.com (nvidia.box.com)... 107.152.26.197\n",
            "Connecting to nvidia.box.com (nvidia.box.com)|107.152.26.197|:443... connected.\n",
            "HTTP request sent, awaiting response... 301 Moved Permanently\n",
            "Location: /public/static/djf5w54rjvpqocsiztzaandq1m3avr7c.pth [following]\n",
            "--2021-02-26 19:35:35--  https://nvidia.box.com/public/static/djf5w54rjvpqocsiztzaandq1m3avr7c.pth\n",
            "Reusing existing connection to nvidia.box.com:443.\n",
            "HTTP request sent, awaiting response... 301 Moved Permanently\n",
            "Location: https://nvidia.app.box.com/public/static/djf5w54rjvpqocsiztzaandq1m3avr7c.pth [following]\n",
            "--2021-02-26 19:35:35--  https://nvidia.app.box.com/public/static/djf5w54rjvpqocsiztzaandq1m3avr7c.pth\n",
            "Resolving nvidia.app.box.com (nvidia.app.box.com)... 107.152.26.201\n",
            "Connecting to nvidia.app.box.com (nvidia.app.box.com)|107.152.26.201|:443... connected.\n",
            "HTTP request sent, awaiting response... 302 Found\n",
            "Location: https://public.boxcloud.com/d/1/b1!UyfNYjwzzl1wlTntJWacdydnF59WobDVC0SzT5bFXCAcfo6nc1OKCqidmHk6hbVPP0qRXoMhGNtjZGmjUCCpPcfRcRJXRzrLMkYYXZQ4W4kF8HAKjvZ1tvkSPuXyo41n4SHEUUrg47wxkbcTe8_g8IjxvAu-sATUsu94ZoXROSqM9DI-3Bl0GEEbwnApiveVBZWQra_8vt4Zt9CYrA6CaR1ioorbCSNQ6CedgLirLIKLFQa_oT_bWF6vG6YpPpXtVIms9NU_9K4UcGBQkMCan_BEvH80Bh_bJgulBnWlDwCPkrabZtxQ0SYwVwh6C8e0GtbjuhQxSgCLN2yZ40r85mskloY15hfxjZzWFptXzTJx2toyt4Pr4MsiK7h-v2xw_aTYcNpwRwo9jL_6qQV99hgKM3jEAA0P_Kesj9QXIsP8W7MfDeIMq8WAQTxBwd9Y-YBj5s3Nx6P2n7hCmQT217_bHKgQ0TxB2Ut1RorEPTSyOb1ciy89gB8tp9QNLMiDPXGgWe1F2bzqnBgvDCM31n-DEdGZRlm7KEgICc9lrwvLFh5akq6sGqhBVrqUfSRJQzdyJoQA6cvHuAkgb_Qlj716NnVp3RnDgLY-AeYOr7XLU5M4JpIZdakwCxbfq86tWi6cqNwmCSaBW-qDD7N5jUnrSld-UCfTlmYuKBYKtHvVkAXeKftXjJGI8bl3DLykaPse01hwFV2NKetjNSm33CkSNSwzLAwWXEqi1io4WXhyoNWjVNjOhFrs4TmEc1FdyzNmIJm3s-RR55qJXjIOZF-V6_i6T78xlFfaJWzUnYEQSJ7tgNrerShrKAqGfQbRKMZxjQd8F0f79QVUTBKHQDW9HA2d6Ycia2nJfMSl_qzZkT73M_0xkKCFC21vmdQbxJ5ExBEUUMHSW1zEngmcfSTkj6FX0fOYmR-98rBz9FPpsgsjAqhFLuO5rZdJ7rChsqmTlYLyJuqVLhtPg9XebzUkeBIpWKrC9I7kccBIn0buzLnqL8XohdjdhDwjSGIFioeNVhDezmeodsrVMEONa4povdZ75JBz9NuLUatvdZPFV_8nmdKuXxUh1ne1l0Omi2gfefenW-pWYxe6q_UYG9T5M3vr3PLG2jrWc8-aqmgMcS1Y_KVwu4Ztji0mHbI3vr_rJVmXs071cVOWxCoRP1TJ16embs6fU4elCNLbn0WHSbqxvtpQ3i1oSRegqIbJ49Yl6cWVlRNEdwybQAAwZXvCG71pifZQHdwBZoZ5vbMPl07XyXMsvX3rRyypJBnodYeBybSPQXOrJS_S-kQYryN5u1_LVjNrLDyG3-UuLN_TREku_I2GDJx5tKEuXdpO_de3n2UgA6rIenaE2ouOXXRgIGeR-KctDEPMnEoOZIhomP8oKCA7F6Sd6xaxinDQ23k2OJHxXr-6MAtBitk8NWY./download [following]\n",
            "--2021-02-26 19:35:35--  https://public.boxcloud.com/d/1/b1!UyfNYjwzzl1wlTntJWacdydnF59WobDVC0SzT5bFXCAcfo6nc1OKCqidmHk6hbVPP0qRXoMhGNtjZGmjUCCpPcfRcRJXRzrLMkYYXZQ4W4kF8HAKjvZ1tvkSPuXyo41n4SHEUUrg47wxkbcTe8_g8IjxvAu-sATUsu94ZoXROSqM9DI-3Bl0GEEbwnApiveVBZWQra_8vt4Zt9CYrA6CaR1ioorbCSNQ6CedgLirLIKLFQa_oT_bWF6vG6YpPpXtVIms9NU_9K4UcGBQkMCan_BEvH80Bh_bJgulBnWlDwCPkrabZtxQ0SYwVwh6C8e0GtbjuhQxSgCLN2yZ40r85mskloY15hfxjZzWFptXzTJx2toyt4Pr4MsiK7h-v2xw_aTYcNpwRwo9jL_6qQV99hgKM3jEAA0P_Kesj9QXIsP8W7MfDeIMq8WAQTxBwd9Y-YBj5s3Nx6P2n7hCmQT217_bHKgQ0TxB2Ut1RorEPTSyOb1ciy89gB8tp9QNLMiDPXGgWe1F2bzqnBgvDCM31n-DEdGZRlm7KEgICc9lrwvLFh5akq6sGqhBVrqUfSRJQzdyJoQA6cvHuAkgb_Qlj716NnVp3RnDgLY-AeYOr7XLU5M4JpIZdakwCxbfq86tWi6cqNwmCSaBW-qDD7N5jUnrSld-UCfTlmYuKBYKtHvVkAXeKftXjJGI8bl3DLykaPse01hwFV2NKetjNSm33CkSNSwzLAwWXEqi1io4WXhyoNWjVNjOhFrs4TmEc1FdyzNmIJm3s-RR55qJXjIOZF-V6_i6T78xlFfaJWzUnYEQSJ7tgNrerShrKAqGfQbRKMZxjQd8F0f79QVUTBKHQDW9HA2d6Ycia2nJfMSl_qzZkT73M_0xkKCFC21vmdQbxJ5ExBEUUMHSW1zEngmcfSTkj6FX0fOYmR-98rBz9FPpsgsjAqhFLuO5rZdJ7rChsqmTlYLyJuqVLhtPg9XebzUkeBIpWKrC9I7kccBIn0buzLnqL8XohdjdhDwjSGIFioeNVhDezmeodsrVMEONa4povdZ75JBz9NuLUatvdZPFV_8nmdKuXxUh1ne1l0Omi2gfefenW-pWYxe6q_UYG9T5M3vr3PLG2jrWc8-aqmgMcS1Y_KVwu4Ztji0mHbI3vr_rJVmXs071cVOWxCoRP1TJ16embs6fU4elCNLbn0WHSbqxvtpQ3i1oSRegqIbJ49Yl6cWVlRNEdwybQAAwZXvCG71pifZQHdwBZoZ5vbMPl07XyXMsvX3rRyypJBnodYeBybSPQXOrJS_S-kQYryN5u1_LVjNrLDyG3-UuLN_TREku_I2GDJx5tKEuXdpO_de3n2UgA6rIenaE2ouOXXRgIGeR-KctDEPMnEoOZIhomP8oKCA7F6Sd6xaxinDQ23k2OJHxXr-6MAtBitk8NWY./download\n",
            "Resolving public.boxcloud.com (public.boxcloud.com)... 107.152.26.200\n",
            "Connecting to public.boxcloud.com (public.boxcloud.com)|107.152.26.200|:443... connected.\n",
            "HTTP request sent, awaiting response... 200 OK\n",
            "Length: 37995286 (36M) [application/octet-stream]\n",
            "Saving to: ‘models/mobilenet-v1-ssd-mp-0_675.pth’\n",
            "\n",
            "models/mobilenet-v1 100%[===================>]  36.23M  19.4MB/s    in 1.9s    \n",
            "\n",
            "2021-02-26 19:35:38 (19.4 MB/s) - ‘models/mobilenet-v1-ssd-mp-0_675.pth’ saved [37995286/37995286]\n",
            "\n",
            "Created temporary directory: /tmp/pip-ephem-wheel-cache-6b_e07u0\n",
            "Created temporary directory: /tmp/pip-req-tracker-37nklji6\n",
            "Created requirements tracker '/tmp/pip-req-tracker-37nklji6'\n",
            "Created temporary directory: /tmp/pip-install-vl3pe1nx\n",
            "Requirement already satisfied: boto3 in /usr/local/lib/python3.7/dist-packages (from -r requirements.txt (line 1)) (1.17.16)\n",
            "Requirement already satisfied: pandas in /usr/local/lib/python3.7/dist-packages (from -r requirements.txt (line 2)) (1.1.5)\n",
            "Requirement already satisfied: urllib3 in /usr/local/lib/python3.7/dist-packages (from -r requirements.txt (line 3)) (1.24.3)\n",
            "Requirement already satisfied: jmespath<1.0.0,>=0.7.1 in /usr/local/lib/python3.7/dist-packages (from boto3->-r requirements.txt (line 1)) (0.10.0)\n",
            "Requirement already satisfied: s3transfer<0.4.0,>=0.3.0 in /usr/local/lib/python3.7/dist-packages (from boto3->-r requirements.txt (line 1)) (0.3.4)\n",
            "Requirement already satisfied: botocore<1.21.0,>=1.20.16 in /usr/local/lib/python3.7/dist-packages (from boto3->-r requirements.txt (line 1)) (1.20.16)\n",
            "Requirement already satisfied: python-dateutil>=2.7.3 in /usr/local/lib/python3.7/dist-packages (from pandas->-r requirements.txt (line 2)) (2.8.1)\n",
            "Requirement already satisfied: numpy>=1.15.4 in /usr/local/lib/python3.7/dist-packages (from pandas->-r requirements.txt (line 2)) (1.19.5)\n",
            "Requirement already satisfied: pytz>=2017.2 in /usr/local/lib/python3.7/dist-packages (from pandas->-r requirements.txt (line 2)) (2018.9)\n",
            "Requirement already satisfied: six>=1.5 in /usr/local/lib/python3.7/dist-packages (from python-dateutil>=2.7.3->pandas->-r requirements.txt (line 2)) (1.15.0)\n",
            "Cleaning up...\n",
            "Removed build tracker '/tmp/pip-req-tracker-37nklji6'\n"
          ],
          "name": "stdout"
        }
      ]
    },
    {
      "cell_type": "code",
      "metadata": {
        "colab": {
          "base_uri": "https://localhost:8080/"
        },
        "id": "rCrUH8l8wDH4",
        "outputId": "fff8dd45-1d7c-416b-ccb3-3f91480d288f"
      },
      "source": [
        "!python3 train_ssd.py --dataset-type=voc --data=./ --model-dir=models/Capstone --batch-size=1 --workers=1 --epochs=20"
      ],
      "execution_count": null,
      "outputs": [
        {
          "output_type": "stream",
          "text": [
            "2021-02-26 19:35:46 - Using CUDA...\n",
            "2021-02-26 19:35:46 - Namespace(balance_data=False, base_net=None, base_net_lr=0.001, batch_size=1, checkpoint_folder='models/Capstone', dataset_type='voc', datasets=['./'], debug_steps=10, extra_layers_lr=None, freeze_base_net=False, freeze_net=False, gamma=0.1, lr=0.01, mb2_width_mult=1.0, milestones='80,100', momentum=0.9, net='mb1-ssd', num_epochs=20, num_workers=1, pretrained_ssd='models/mobilenet-v1-ssd-mp-0_675.pth', resume=None, scheduler='cosine', t_max=100, use_cuda=True, validation_epochs=1, weight_decay=0.0005)\n",
            "2021-02-26 19:35:46 - Prepare training datasets.\n",
            "2021-02-26 19:35:46 - VOC Labels read from file: ('BACKGROUND', 'Stage 1.2')\n",
            "2021-02-26 19:35:46 - Stored labels into file models/Capstone/labels.txt.\n",
            "2021-02-26 19:35:46 - Train dataset size: 8\n",
            "2021-02-26 19:35:46 - Prepare Validation datasets.\n",
            "2021-02-26 19:35:46 - VOC Labels read from file: ('BACKGROUND', 'Stage 1.2')\n",
            "2021-02-26 19:35:46 - Validation dataset size: 2\n",
            "2021-02-26 19:35:46 - Build network.\n",
            "2021-02-26 19:35:46 - Init from pretrained ssd models/mobilenet-v1-ssd-mp-0_675.pth\n",
            "2021-02-26 19:35:46 - Took 0.04 seconds to load the model.\n",
            "2021-02-26 19:35:56 - Learning rate: 0.01, Base net learning rate: 0.001, Extra Layers learning rate: 0.01.\n",
            "2021-02-26 19:35:56 - Uses CosineAnnealingLR scheduler.\n",
            "2021-02-26 19:35:56 - Start training from epoch 0.\n",
            "/usr/local/lib/python3.7/dist-packages/torch/optim/lr_scheduler.py:136: UserWarning: Detected call of `lr_scheduler.step()` before `optimizer.step()`. In PyTorch 1.1.0 and later, you should call them in the opposite order: `optimizer.step()` before `lr_scheduler.step()`.  Failure to do this will result in PyTorch skipping the first value of the learning rate schedule. See more details at https://pytorch.org/docs/stable/optim.html#how-to-adjust-learning-rate\n",
            "  \"https://pytorch.org/docs/stable/optim.html#how-to-adjust-learning-rate\", UserWarning)\n",
            "/usr/local/lib/python3.7/dist-packages/torch/nn/_reduction.py:44: UserWarning: size_average and reduce args will be deprecated, please use reduction='sum' instead.\n",
            "  warnings.warn(warning.format(ret))\n",
            "tcmalloc: large alloc 1102028800 bytes == 0x563540712000 @  0x7fc855c66001 0x7fc80605d54f 0x7fc8060adb58 0x7fc8060b1b17 0x7fc806150203 0x56349ac810e4 0x56349ac80de0 0x56349acf56f5 0x56349ac82bd9 0x56349acc6029 0x56349ac817f2 0x56349acf4d75 0x56349acefb0e 0x56349ac82e11 0x56349acc6029 0x56349ac817f2 0x56349acf563d 0x56349ac82bd9 0x56349acc6029 0x56349ac817f2 0x56349acf563d 0x56349ac8472b 0x56349acc55e9 0x56349acc555c 0x56349ad68e59 0x56349acf0fad 0x56349ac8472b 0x56349acc55e9 0x56349acc555c 0x56349ad68e59 0x56349acf0fad\n",
            "2021-02-26 19:36:01 - Epoch: 0, Validation Loss: 16.0420, Validation Regression Loss 2.9081, Validation Classification Loss: 13.1338\n",
            "2021-02-26 19:36:01 - Saved model models/Capstone/mb1-ssd-Epoch-0-Loss-16.041966438293457.pth\n",
            "tcmalloc: large alloc 1102028800 bytes == 0x563540712000 @  0x7fc855c66001 0x7fc80605d54f 0x7fc8060adb58 0x7fc8060b1b17 0x7fc806150203 0x56349ac810e4 0x56349ac80de0 0x56349acf56f5 0x56349ac82bd9 0x56349acc6029 0x56349ac817f2 0x56349acf4d75 0x56349acefb0e 0x56349ac82e11 0x56349acc6029 0x56349ac817f2 0x56349acf563d 0x56349ac82bd9 0x56349acc6029 0x56349ac817f2 0x56349acf563d 0x56349ac8472b 0x56349acc55e9 0x56349acc555c 0x56349ad68e59 0x56349acf0fad 0x56349ac8472b 0x56349acc55e9 0x56349acc555c 0x56349ad68e59 0x56349acf0fad\n",
            "2021-02-26 19:36:05 - Epoch: 1, Validation Loss: 15.8015, Validation Regression Loss 2.7318, Validation Classification Loss: 13.0697\n",
            "2021-02-26 19:36:05 - Saved model models/Capstone/mb1-ssd-Epoch-1-Loss-15.801538228988647.pth\n",
            "tcmalloc: large alloc 1102028800 bytes == 0x563540712000 @  0x7fc855c66001 0x7fc80605d54f 0x7fc8060adb58 0x7fc8060b1b17 0x7fc806150203 0x56349ac810e4 0x56349ac80de0 0x56349acf56f5 0x56349ac82bd9 0x56349acc6029 0x56349ac817f2 0x56349acf4d75 0x56349acefb0e 0x56349ac82e11 0x56349acc6029 0x56349ac817f2 0x56349acf563d 0x56349ac82bd9 0x56349acc6029 0x56349ac817f2 0x56349acf563d 0x56349ac8472b 0x56349acc55e9 0x56349acc555c 0x56349ad68e59 0x56349acf0fad 0x56349ac8472b 0x56349acc55e9 0x56349acc555c 0x56349ad68e59 0x56349acf0fad\n",
            "2021-02-26 19:36:10 - Epoch: 2, Validation Loss: 8.5286, Validation Regression Loss 2.3697, Validation Classification Loss: 6.1589\n",
            "2021-02-26 19:36:10 - Saved model models/Capstone/mb1-ssd-Epoch-2-Loss-8.528605937957764.pth\n",
            "tcmalloc: large alloc 1102028800 bytes == 0x563540712000 @  0x7fc855c66001 0x7fc80605d54f 0x7fc8060adb58 0x7fc8060b1b17 0x7fc806150203 0x56349ac810e4 0x56349ac80de0 0x56349acf56f5 0x56349ac82bd9 0x56349acc6029 0x56349ac817f2 0x56349acf4d75 0x56349acefb0e 0x56349ac82e11 0x56349acc6029 0x56349ac817f2 0x56349acf563d 0x56349ac82bd9 0x56349acc6029 0x56349ac817f2 0x56349acf563d 0x56349ac8472b 0x56349acc55e9 0x56349acc555c 0x56349ad68e59 0x56349acf0fad 0x56349ac8472b 0x56349acc55e9 0x56349acc555c 0x56349ad68e59 0x56349acf0fad\n",
            "2021-02-26 19:36:14 - Epoch: 3, Validation Loss: 4.8506, Validation Regression Loss 1.4994, Validation Classification Loss: 3.3512\n",
            "2021-02-26 19:36:14 - Saved model models/Capstone/mb1-ssd-Epoch-3-Loss-4.850629448890686.pth\n",
            "tcmalloc: large alloc 1102028800 bytes == 0x563540712000 @  0x7fc855c66001 0x7fc80605d54f 0x7fc8060adb58 0x7fc8060b1b17 0x7fc806150203 0x56349ac810e4 0x56349ac80de0 0x56349acf56f5 0x56349ac82bd9 0x56349acc6029 0x56349ac817f2 0x56349acf4d75 0x56349acefb0e 0x56349ac82e11 0x56349acc6029 0x56349ac817f2 0x56349acf563d 0x56349ac82bd9 0x56349acc6029 0x56349ac817f2 0x56349acf563d 0x56349ac8472b 0x56349acc55e9 0x56349acc555c 0x56349ad68e59 0x56349acf0fad 0x56349ac8472b 0x56349acc55e9 0x56349acc555c 0x56349ad68e59 0x56349acf0fad\n",
            "2021-02-26 19:36:18 - Epoch: 4, Validation Loss: 4.5453, Validation Regression Loss 1.2524, Validation Classification Loss: 3.2928\n",
            "2021-02-26 19:36:18 - Saved model models/Capstone/mb1-ssd-Epoch-4-Loss-4.545269727706909.pth\n",
            "tcmalloc: large alloc 1102028800 bytes == 0x563540712000 @  0x7fc855c66001 0x7fc80605d54f 0x7fc8060adb58 0x7fc8060b1b17 0x7fc806150203 0x56349ac810e4 0x56349ac80de0 0x56349acf56f5 0x56349ac82bd9 0x56349acc6029 0x56349ac817f2 0x56349acf4d75 0x56349acefb0e 0x56349ac82e11 0x56349acc6029 0x56349ac817f2 0x56349acf563d 0x56349ac82bd9 0x56349acc6029 0x56349ac817f2 0x56349acf563d 0x56349ac8472b 0x56349acc55e9 0x56349acc555c 0x56349ad68e59 0x56349acf0fad 0x56349ac8472b 0x56349acc55e9 0x56349acc555c 0x56349ad68e59 0x56349acf0fad\n",
            "2021-02-26 19:36:23 - Epoch: 5, Validation Loss: 5.7216, Validation Regression Loss 1.8839, Validation Classification Loss: 3.8377\n",
            "2021-02-26 19:36:23 - Saved model models/Capstone/mb1-ssd-Epoch-5-Loss-5.721619606018066.pth\n",
            "tcmalloc: large alloc 1102028800 bytes == 0x563540712000 @  0x7fc855c66001 0x7fc80605d54f 0x7fc8060adb58 0x7fc8060b1b17 0x7fc806150203 0x56349ac810e4 0x56349ac80de0 0x56349acf56f5 0x56349ac82bd9 0x56349acc6029 0x56349ac817f2 0x56349acf4d75 0x56349acefb0e 0x56349ac82e11 0x56349acc6029 0x56349ac817f2 0x56349acf563d 0x56349ac82bd9 0x56349acc6029 0x56349ac817f2 0x56349acf563d 0x56349ac8472b 0x56349acc55e9 0x56349acc555c 0x56349ad68e59 0x56349acf0fad 0x56349ac8472b 0x56349acc55e9 0x56349acc555c 0x56349ad68e59 0x56349acf0fad\n",
            "2021-02-26 19:36:27 - Epoch: 6, Validation Loss: 4.5701, Validation Regression Loss 1.7749, Validation Classification Loss: 2.7953\n",
            "2021-02-26 19:36:27 - Saved model models/Capstone/mb1-ssd-Epoch-6-Loss-4.5701212882995605.pth\n",
            "tcmalloc: large alloc 1102028800 bytes == 0x563540712000 @  0x7fc855c66001 0x7fc80605d54f 0x7fc8060adb58 0x7fc8060b1b17 0x7fc806150203 0x56349ac810e4 0x56349ac80de0 0x56349acf56f5 0x56349ac82bd9 0x56349acc6029 0x56349ac817f2 0x56349acf4d75 0x56349acefb0e 0x56349ac82e11 0x56349acc6029 0x56349ac817f2 0x56349acf563d 0x56349ac82bd9 0x56349acc6029 0x56349ac817f2 0x56349acf563d 0x56349ac8472b 0x56349acc55e9 0x56349acc555c 0x56349ad68e59 0x56349acf0fad 0x56349ac8472b 0x56349acc55e9 0x56349acc555c 0x56349ad68e59 0x56349acf0fad\n",
            "2021-02-26 19:36:31 - Epoch: 7, Validation Loss: 5.3166, Validation Regression Loss 2.1101, Validation Classification Loss: 3.2065\n",
            "2021-02-26 19:36:31 - Saved model models/Capstone/mb1-ssd-Epoch-7-Loss-5.316616058349609.pth\n",
            "tcmalloc: large alloc 1102028800 bytes == 0x563540712000 @  0x7fc855c66001 0x7fc80605d54f 0x7fc8060adb58 0x7fc8060b1b17 0x7fc806150203 0x56349ac810e4 0x56349ac80de0 0x56349acf56f5 0x56349ac82bd9 0x56349acc6029 0x56349ac817f2 0x56349acf4d75 0x56349acefb0e 0x56349ac82e11 0x56349acc6029 0x56349ac817f2 0x56349acf563d 0x56349ac82bd9 0x56349acc6029 0x56349ac817f2 0x56349acf563d 0x56349ac8472b 0x56349acc55e9 0x56349acc555c 0x56349ad68e59 0x56349acf0fad 0x56349ac8472b 0x56349acc55e9 0x56349acc555c 0x56349ad68e59 0x56349acf0fad\n",
            "2021-02-26 19:36:36 - Epoch: 8, Validation Loss: 8.5021, Validation Regression Loss 2.3098, Validation Classification Loss: 6.1923\n",
            "2021-02-26 19:36:36 - Saved model models/Capstone/mb1-ssd-Epoch-8-Loss-8.50205934047699.pth\n",
            "tcmalloc: large alloc 1102028800 bytes == 0x563540712000 @  0x7fc855c66001 0x7fc80605d54f 0x7fc8060adb58 0x7fc8060b1b17 0x7fc806150203 0x56349ac810e4 0x56349ac80de0 0x56349acf56f5 0x56349ac82bd9 0x56349acc6029 0x56349ac817f2 0x56349acf4d75 0x56349acefb0e 0x56349ac82e11 0x56349acc6029 0x56349ac817f2 0x56349acf563d 0x56349ac82bd9 0x56349acc6029 0x56349ac817f2 0x56349acf563d 0x56349ac8472b 0x56349acc55e9 0x56349acc555c 0x56349ad68e59 0x56349acf0fad 0x56349ac8472b 0x56349acc55e9 0x56349acc555c 0x56349ad68e59 0x56349acf0fad\n",
            "2021-02-26 19:36:40 - Epoch: 9, Validation Loss: 5.6475, Validation Regression Loss 2.8969, Validation Classification Loss: 2.7506\n",
            "2021-02-26 19:36:40 - Saved model models/Capstone/mb1-ssd-Epoch-9-Loss-5.647496938705444.pth\n",
            "tcmalloc: large alloc 1102028800 bytes == 0x563540712000 @  0x7fc855c66001 0x7fc80605d54f 0x7fc8060adb58 0x7fc8060b1b17 0x7fc806150203 0x56349ac810e4 0x56349ac80de0 0x56349acf56f5 0x56349ac82bd9 0x56349acc6029 0x56349ac817f2 0x56349acf4d75 0x56349acefb0e 0x56349ac82e11 0x56349acc6029 0x56349ac817f2 0x56349acf563d 0x56349ac82bd9 0x56349acc6029 0x56349ac817f2 0x56349acf563d 0x56349ac8472b 0x56349acc55e9 0x56349acc555c 0x56349ad68e59 0x56349acf0fad 0x56349ac8472b 0x56349acc55e9 0x56349acc555c 0x56349ad68e59 0x56349acf0fad\n",
            "2021-02-26 19:36:45 - Epoch: 10, Validation Loss: 6.7799, Validation Regression Loss 3.5406, Validation Classification Loss: 3.2393\n",
            "2021-02-26 19:36:45 - Saved model models/Capstone/mb1-ssd-Epoch-10-Loss-6.779903888702393.pth\n",
            "tcmalloc: large alloc 1102028800 bytes == 0x563540712000 @  0x7fc855c66001 0x7fc80605d54f 0x7fc8060adb58 0x7fc8060b1b17 0x7fc806150203 0x56349ac810e4 0x56349ac80de0 0x56349acf56f5 0x56349ac82bd9 0x56349acc6029 0x56349ac817f2 0x56349acf4d75 0x56349acefb0e 0x56349ac82e11 0x56349acc6029 0x56349ac817f2 0x56349acf563d 0x56349ac82bd9 0x56349acc6029 0x56349ac817f2 0x56349acf563d 0x56349ac8472b 0x56349acc55e9 0x56349acc555c 0x56349ad68e59 0x56349acf0fad 0x56349ac8472b 0x56349acc55e9 0x56349acc555c 0x56349ad68e59 0x56349acf0fad\n",
            "2021-02-26 19:36:49 - Epoch: 11, Validation Loss: 4.7123, Validation Regression Loss 2.0936, Validation Classification Loss: 2.6187\n",
            "2021-02-26 19:36:49 - Saved model models/Capstone/mb1-ssd-Epoch-11-Loss-4.712330341339111.pth\n",
            "tcmalloc: large alloc 1102028800 bytes == 0x563540712000 @  0x7fc855c66001 0x7fc80605d54f 0x7fc8060adb58 0x7fc8060b1b17 0x7fc806150203 0x56349ac810e4 0x56349ac80de0 0x56349acf56f5 0x56349ac82bd9 0x56349acc6029 0x56349ac817f2 0x56349acf4d75 0x56349acefb0e 0x56349ac82e11 0x56349acc6029 0x56349ac817f2 0x56349acf563d 0x56349ac82bd9 0x56349acc6029 0x56349ac817f2 0x56349acf563d 0x56349ac8472b 0x56349acc55e9 0x56349acc555c 0x56349ad68e59 0x56349acf0fad 0x56349ac8472b 0x56349acc55e9 0x56349acc555c 0x56349ad68e59 0x56349acf0fad\n",
            "2021-02-26 19:36:53 - Epoch: 12, Validation Loss: 3.7335, Validation Regression Loss 0.8132, Validation Classification Loss: 2.9202\n",
            "2021-02-26 19:36:54 - Saved model models/Capstone/mb1-ssd-Epoch-12-Loss-3.7334558963775635.pth\n",
            "tcmalloc: large alloc 1102028800 bytes == 0x563540712000 @  0x7fc855c66001 0x7fc80605d54f 0x7fc8060adb58 0x7fc8060b1b17 0x7fc806150203 0x56349ac810e4 0x56349ac80de0 0x56349acf56f5 0x56349ac82bd9 0x56349acc6029 0x56349ac817f2 0x56349acf4d75 0x56349acefb0e 0x56349ac82e11 0x56349acc6029 0x56349ac817f2 0x56349acf563d 0x56349ac82bd9 0x56349acc6029 0x56349ac817f2 0x56349acf563d 0x56349ac8472b 0x56349acc55e9 0x56349acc555c 0x56349ad68e59 0x56349acf0fad 0x56349ac8472b 0x56349acc55e9 0x56349acc555c 0x56349ad68e59 0x56349acf0fad\n",
            "2021-02-26 19:36:58 - Epoch: 13, Validation Loss: 5.1081, Validation Regression Loss 1.1098, Validation Classification Loss: 3.9983\n",
            "2021-02-26 19:36:58 - Saved model models/Capstone/mb1-ssd-Epoch-13-Loss-5.1080873012542725.pth\n",
            "tcmalloc: large alloc 1102028800 bytes == 0x563540712000 @  0x7fc855c66001 0x7fc80605d54f 0x7fc8060adb58 0x7fc8060b1b17 0x7fc806150203 0x56349ac810e4 0x56349ac80de0 0x56349acf56f5 0x56349ac82bd9 0x56349acc6029 0x56349ac817f2 0x56349acf4d75 0x56349acefb0e 0x56349ac82e11 0x56349acc6029 0x56349ac817f2 0x56349acf563d 0x56349ac82bd9 0x56349acc6029 0x56349ac817f2 0x56349acf563d 0x56349ac8472b 0x56349acc55e9 0x56349acc555c 0x56349ad68e59 0x56349acf0fad 0x56349ac8472b 0x56349acc55e9 0x56349acc555c 0x56349ad68e59 0x56349acf0fad\n",
            "2021-02-26 19:37:02 - Epoch: 14, Validation Loss: 4.4637, Validation Regression Loss 1.3283, Validation Classification Loss: 3.1354\n",
            "2021-02-26 19:37:02 - Saved model models/Capstone/mb1-ssd-Epoch-14-Loss-4.463691353797913.pth\n",
            "tcmalloc: large alloc 1102028800 bytes == 0x563540712000 @  0x7fc855c66001 0x7fc80605d54f 0x7fc8060adb58 0x7fc8060b1b17 0x7fc806150203 0x56349ac810e4 0x56349ac80de0 0x56349acf56f5 0x56349ac82bd9 0x56349acc6029 0x56349ac817f2 0x56349acf4d75 0x56349acefb0e 0x56349ac82e11 0x56349acc6029 0x56349ac817f2 0x56349acf563d 0x56349ac82bd9 0x56349acc6029 0x56349ac817f2 0x56349acf563d 0x56349ac8472b 0x56349acc55e9 0x56349acc555c 0x56349ad68e59 0x56349acf0fad 0x56349ac8472b 0x56349acc55e9 0x56349acc555c 0x56349ad68e59 0x56349acf0fad\n",
            "2021-02-26 19:37:07 - Epoch: 15, Validation Loss: 4.7500, Validation Regression Loss 1.6786, Validation Classification Loss: 3.0714\n",
            "2021-02-26 19:37:07 - Saved model models/Capstone/mb1-ssd-Epoch-15-Loss-4.750005125999451.pth\n",
            "tcmalloc: large alloc 1102028800 bytes == 0x563540712000 @  0x7fc855c66001 0x7fc80605d54f 0x7fc8060adb58 0x7fc8060b1b17 0x7fc806150203 0x56349ac810e4 0x56349ac80de0 0x56349acf56f5 0x56349ac82bd9 0x56349acc6029 0x56349ac817f2 0x56349acf4d75 0x56349acefb0e 0x56349ac82e11 0x56349acc6029 0x56349ac817f2 0x56349acf563d 0x56349ac82bd9 0x56349acc6029 0x56349ac817f2 0x56349acf563d 0x56349ac8472b 0x56349acc55e9 0x56349acc555c 0x56349ad68e59 0x56349acf0fad 0x56349ac8472b 0x56349acc55e9 0x56349acc555c 0x56349ad68e59 0x56349acf0fad\n",
            "2021-02-26 19:37:11 - Epoch: 16, Validation Loss: 3.3250, Validation Regression Loss 0.9308, Validation Classification Loss: 2.3942\n",
            "2021-02-26 19:37:11 - Saved model models/Capstone/mb1-ssd-Epoch-16-Loss-3.32503604888916.pth\n",
            "tcmalloc: large alloc 1102028800 bytes == 0x563540712000 @  0x7fc855c66001 0x7fc80605d54f 0x7fc8060adb58 0x7fc8060b1b17 0x7fc806150203 0x56349ac810e4 0x56349ac80de0 0x56349acf56f5 0x56349ac82bd9 0x56349acc6029 0x56349ac817f2 0x56349acf4d75 0x56349acefb0e 0x56349ac82e11 0x56349acc6029 0x56349ac817f2 0x56349acf563d 0x56349ac82bd9 0x56349acc6029 0x56349ac817f2 0x56349acf563d 0x56349ac8472b 0x56349acc55e9 0x56349acc555c 0x56349ad68e59 0x56349acf0fad 0x56349ac8472b 0x56349acc55e9 0x56349acc555c 0x56349ad68e59 0x56349acf0fad\n",
            "2021-02-26 19:37:15 - Epoch: 17, Validation Loss: 3.2539, Validation Regression Loss 0.8830, Validation Classification Loss: 2.3709\n",
            "2021-02-26 19:37:16 - Saved model models/Capstone/mb1-ssd-Epoch-17-Loss-3.2538779973983765.pth\n",
            "tcmalloc: large alloc 1102028800 bytes == 0x563540712000 @  0x7fc855c66001 0x7fc80605d54f 0x7fc8060adb58 0x7fc8060b1b17 0x7fc806150203 0x56349ac810e4 0x56349ac80de0 0x56349acf56f5 0x56349ac82bd9 0x56349acc6029 0x56349ac817f2 0x56349acf4d75 0x56349acefb0e 0x56349ac82e11 0x56349acc6029 0x56349ac817f2 0x56349acf563d 0x56349ac82bd9 0x56349acc6029 0x56349ac817f2 0x56349acf563d 0x56349ac8472b 0x56349acc55e9 0x56349acc555c 0x56349ad68e59 0x56349acf0fad 0x56349ac8472b 0x56349acc55e9 0x56349acc555c 0x56349ad68e59 0x56349acf0fad\n",
            "2021-02-26 19:37:20 - Epoch: 18, Validation Loss: 2.5262, Validation Regression Loss 0.9251, Validation Classification Loss: 1.6011\n",
            "2021-02-26 19:37:20 - Saved model models/Capstone/mb1-ssd-Epoch-18-Loss-2.526223659515381.pth\n",
            "tcmalloc: large alloc 1102028800 bytes == 0x563540712000 @  0x7fc855c66001 0x7fc80605d54f 0x7fc8060adb58 0x7fc8060b1b17 0x7fc806150203 0x56349ac810e4 0x56349ac80de0 0x56349acf56f5 0x56349ac82bd9 0x56349acc6029 0x56349ac817f2 0x56349acf4d75 0x56349acefb0e 0x56349ac82e11 0x56349acc6029 0x56349ac817f2 0x56349acf563d 0x56349ac82bd9 0x56349acc6029 0x56349ac817f2 0x56349acf563d 0x56349ac8472b 0x56349acc55e9 0x56349acc555c 0x56349ad68e59 0x56349acf0fad 0x56349ac8472b 0x56349acc55e9 0x56349acc555c 0x56349ad68e59 0x56349acf0fad\n",
            "2021-02-26 19:37:24 - Epoch: 19, Validation Loss: 3.7107, Validation Regression Loss 0.9518, Validation Classification Loss: 2.7589\n",
            "2021-02-26 19:37:24 - Saved model models/Capstone/mb1-ssd-Epoch-19-Loss-3.7107369899749756.pth\n",
            "2021-02-26 19:37:24 - Task done, exiting program.\n"
          ],
          "name": "stdout"
        }
      ]
    }
  ]
}